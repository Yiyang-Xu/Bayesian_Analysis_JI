{
 "cells": [
  {
   "cell_type": "code",
   "execution_count": 1,
   "id": "f176d1ed",
   "metadata": {},
   "outputs": [],
   "source": [
    "import numpy as np\n",
    "import pandas as pd\n",
    "import matplotlib.pyplot as plt\n",
    "import math"
   ]
  },
  {
   "cell_type": "code",
   "execution_count": 2,
   "id": "b0180857",
   "metadata": {},
   "outputs": [],
   "source": [
    "def EM(theta0):\n",
    "    itr = 10000\n",
    "    theta1 = 0.5\n",
    "    for i in range(itr):\n",
    "        theta0 = theta1\n",
    "        theta1 = (125*theta1/(2+theta1)+ 34)/(125*theta1/(2+theta1)+18+20+34)\n",
    "    return theta1"
   ]
  },
  {
   "cell_type": "code",
   "execution_count": 3,
   "id": "8b3b3c00",
   "metadata": {},
   "outputs": [
    {
     "data": {
      "text/plain": [
       "0.6268214978709824"
      ]
     },
     "execution_count": 3,
     "metadata": {},
     "output_type": "execute_result"
    }
   ],
   "source": [
    "EM(0.5)"
   ]
  },
  {
   "cell_type": "code",
   "execution_count": 4,
   "id": "8f1c2326",
   "metadata": {},
   "outputs": [
    {
     "name": "stderr",
     "output_type": "stream",
     "text": [
      "<ipython-input-4-d0c101e43c50>:2: RuntimeWarning: divide by zero encountered in log\n",
      "  y = np.log(np.power(x,125) * np.power((1-x),72))\n"
     ]
    },
    {
     "data": {
      "text/plain": [
       "<function matplotlib.pyplot.show(close=None, block=None)>"
      ]
     },
     "execution_count": 4,
     "metadata": {},
     "output_type": "execute_result"
    },
    {
     "data": {
      "image/png": "[encoded data removed]",
      "text/plain": [
       "<Figure size 432x288 with 1 Axes>"
      ]
     },
     "metadata": {
      "needs_background": "light"
     },
     "output_type": "display_data"
    }
   ],
   "source": [
    "x = np.linspace(0,1,100)\n",
    "y = np.log(np.power(x,125) * np.power((1-x),72))\n",
    "plt.plot(x,y)\n",
    "plt.show"
   ]
  },
  {
   "cell_type": "code",
   "execution_count": 5,
   "id": "9db3384e",
   "metadata": {},
   "outputs": [
    {
     "data": {
      "text/plain": [
       "0.63"
      ]
     },
     "execution_count": 5,
     "metadata": {},
     "output_type": "execute_result"
    }
   ],
   "source": [
    "np.argmax(y)/100"
   ]
  },
  {
   "cell_type": "code",
   "execution_count": null,
   "id": "012c7d65",
   "metadata": {},
   "outputs": [],
   "source": []
  }
 ],
 "metadata": {
  "hide_input": false,
  "kernelspec": {
   "display_name": "Python 3",
   "language": "python",
   "name": "python3"
  },
  "language_info": {
   "codemirror_mode": {
    "name": "ipython",
    "version": 3
   },
   "file_extension": ".py",
   "mimetype": "text/x-python",
   "name": "python",
   "nbconvert_exporter": "python",
   "pygments_lexer": "ipython3",
   "version": "3.8.8"
  }
 },
 "nbformat": 4,
 "nbformat_minor": 5
}
