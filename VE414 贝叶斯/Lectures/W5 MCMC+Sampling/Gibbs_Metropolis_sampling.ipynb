{
 "cells": [
  {
   "cell_type": "code",
   "execution_count": null,
   "metadata": {},
   "outputs": [],
   "source": [
    "import matplotlib.pyplot as plt\n",
    "import numpy.random as rnd\n",
    "import numpy as np\n",
    "\n",
    "%matplotlib notebook\n"
   ]
  },
  {
   "cell_type": "code",
   "execution_count": null,
   "metadata": {},
   "outputs": [],
   "source": [
    "NUM_ITERATIONS = 500\n",
    "\n",
    "x1, x2 = [-0.1, 0.7]\n",
    "samples = []\n",
    "\n",
    "for i in range(500):\n",
    "    # Sample x1 given x2, using Pythagorean theorem\n",
    "    x1_max = np.sqrt(1 - x2**2)\n",
    "    x1_min = -x1_max\n",
    "    x1 = np.random.uniform(x1_min, x1_max)\n",
    "    samples.append([x1, x2])\n",
    "    \n",
    "    # Sample x2 given x1 similarly\n",
    "    x2_max = np.sqrt(1 - x1**2)\n",
    "    x2_min = -x2_max\n",
    "    x2 = np.random.uniform(x2_min, x2_max)\n",
    "    samples.append([x1, x2])\n",
    "    \n",
    "samples_arr = np.array(samples)\n",
    "plt.figure()\n",
    "plt.scatter(samples_arr[:, 0], samples_arr[:, 1], color='orange')\n",
    "plt.axis('equal')\n"
   ]
  },
  {
   "cell_type": "markdown",
   "metadata": {},
   "source": [
    "### Gibbs sampling"
   ]
  },
  {
   "cell_type": "code",
   "execution_count": null,
   "metadata": {},
   "outputs": [],
   "source": [
    "t = np.arange(0, 2 * np.pi, .001)\n",
    "\n",
    "x_circ = np.cos(t)\n",
    "y_circ = np.sin(t)\n",
    "\n",
    "plt.figure()\n",
    "plt.plot(x_circ, y_circ, lw=2)\n",
    "plt.axis('equal')\n",
    "plt.xlabel('x1')\n",
    "plt.ylabel('x2')\n",
    "initial_point = np.array([0.2, -0.3])\n",
    "\n",
    "x1_val, x2_val = initial_point\n",
    "\n",
    "plt.scatter(x1_val, x2_val, color='red')\n",
    "stage = 'find_x1_dist_given_x2'\n",
    "line = None\n"
   ]
  },
  {
   "cell_type": "code",
   "execution_count": null,
   "metadata": {},
   "outputs": [],
   "source": [
    "### Interactive demo cell\n",
    "# Keep running this over and over to generate points on the graph from the\n",
    "# previous cell. Make sure you're using `%matplotlib notebook`\n",
    "# Each time you run this cell, the variable `stage` controls which of the\n",
    "# 4 if/elif blocks executes, and then changes it so that the next block\n",
    "# will execute next time.\n",
    "\n",
    "print(stage)\n",
    "# Draw the horizontal line\n",
    "if stage == \"find_x1_dist_given_x2\":\n",
    "    if line:\n",
    "        line.remove()\n",
    "    x1_max = np.sqrt(1 - x2_val ** 2)\n",
    "    x1_min = -x1_max\n",
    "    # Draw horizontal line\n",
    "    line,  = plt.plot([x1_min, x1_max], [x2_val, x2_val], color='black', lw=1)\n",
    "    stage = 'sample_x1_given_x2'\n",
    "\n",
    "# Sample a point\n",
    "elif stage == 'sample_x1_given_x2':\n",
    "    plt.scatter(x1_val, x2_val, color='gray')\n",
    "    x1_val = np.random.uniform(x1_min, x1_max)\n",
    "    plt.scatter(x1_val, x2_val, color='red')\n",
    "    stage = \"find_x2_dist_given_x1\"\n",
    "    \n",
    "# Draw the vertical line\n",
    "elif stage == \"find_x2_dist_given_x1\":\n",
    "    if line:\n",
    "        line.remove()\n",
    "    x2_max = np.sqrt(1 - x1_val ** 2)\n",
    "    x2_min = -x2_max\n",
    "    # Draw vertical line\n",
    "    line,  = plt.plot([x1_val, x1_val], [x2_min, x2_max], color='black', lw=1)\n",
    "    stage = 'sample_x2_given_x1'\n",
    "\n",
    "# Sample a point\n",
    "elif stage == 'sample_x2_given_x1':\n",
    "    plt.scatter(x1_val, x2_val, color='gray')\n",
    "    x2_val = np.random.uniform(x2_min, x2_max)\n",
    "    plt.scatter(x1_val, x2_val, color='red')\n",
    "    stage = 'find_x1_dist_given_x2'\n",
    "plt.savefig('7.pdf')"
   ]
  },
  {
   "cell_type": "markdown",
   "metadata": {},
   "source": [
    "## Metropolis sampling from scratch"
   ]
  },
  {
   "cell_type": "code",
   "execution_count": null,
   "metadata": {
    "scrolled": true
   },
   "outputs": [],
   "source": [
    "import random\n",
    "def normal(x,mu,sigma):\n",
    "    numerator = np.exp((-(x-mu)**2)/(2*sigma**2))\n",
    "    denominator = sigma * np.sqrt(2*np.pi)\n",
    "    return numerator/denominator\n",
    "\n",
    "def random_coin(p):\n",
    "    unif = random.uniform(0,1)\n",
    "    if unif>=p:\n",
    "        return False\n",
    "    else:\n",
    "        return True\n",
    "    \n",
    "def gaussian_MS(hops,mu,sigma):\n",
    "    print(hops)\n",
    "    states = []\n",
    "    proposal = []\n",
    "    accept = []\n",
    "    burn_in = int(hops*0.2)\n",
    "    current = random.uniform(-5*sigma+mu,5*sigma+mu)\n",
    "    for i in range(hops):\n",
    "        states.append(current)\n",
    "        movement = random.uniform(-5*sigma+mu,5*sigma+mu)\n",
    "        proposal.append(movement)\n",
    "        curr_prob = normal(x=current,mu=mu,sigma=sigma)\n",
    "        move_prob = normal(x=movement,mu=mu,sigma=sigma)\n",
    "        \n",
    "        acceptance = min(move_prob/curr_prob,1)\n",
    "        if random_coin(acceptance):\n",
    "            current = movement\n",
    "            accept.append(1)\n",
    "        else:\n",
    "            accept.append(0)\n",
    "    return states, states[burn_in:], accept, proposal\n",
    "    \n",
    "lines = np.linspace(-3,3,1000)\n",
    "normal_curve = [normal(l,mu=0,sigma=1) for l in lines]\n",
    "allpts, dist, acc, prop = gaussian_MS(100000,mu=0,sigma=1)\n",
    "plt.figure()\n",
    "plt.hist(dist,bins=100,density=True,stacked=True) \n",
    "plt.plot(lines,normal_curve,'r')\n",
    "plt.show()"
   ]
  },
  {
   "cell_type": "code",
   "execution_count": null,
   "metadata": {},
   "outputs": [],
   "source": [
    "%matplotlib inline\n",
    "plt.figure()\n",
    "plt.plot(allpts)\n",
    "plt.plot([0.2*100000,0.2*100000],[-4,4],'--',label='Burn-in')\n",
    "plt.legend()\n",
    "plt.show()"
   ]
  },
  {
   "cell_type": "code",
   "execution_count": null,
   "metadata": {},
   "outputs": [],
   "source": [
    "#To take a look at a small portion of samples\n",
    "tmp_prop = np.array(prop[10000:10500])\n",
    "tmp_acc = np.array(acc[10000:10500])\n",
    "x = np.arange(500)\n",
    "plt.figure()\n",
    "plt.plot(allpts[10000:10500], label=\"Path\")\n",
    "plt.plot(x[tmp_acc==1],tmp_prop[tmp_acc==1],'g.',label='Accepted',alpha=0.3)\n",
    "plt.plot(x[tmp_acc==0],tmp_prop[tmp_acc==0], 'rx', label='Rejected',alpha=0.3)\n",
    "plt.legend()\n",
    "plt.show()"
   ]
  },
  {
   "cell_type": "code",
   "execution_count": null,
   "metadata": {},
   "outputs": [],
   "source": []
  }
 ],
 "metadata": {
  "kernelspec": {
   "display_name": "Python 3",
   "language": "python",
   "name": "python3"
  },
  "language_info": {
   "codemirror_mode": {
    "name": "ipython",
    "version": 3
   },
   "file_extension": ".py",
   "mimetype": "text/x-python",
   "name": "python",
   "nbconvert_exporter": "python",
   "pygments_lexer": "ipython3",
   "version": "3.8.5"
  }
 },
 "nbformat": 4,
 "nbformat_minor": 4
}
